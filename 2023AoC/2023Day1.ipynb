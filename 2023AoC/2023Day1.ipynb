{
 "cells": [
  {
   "cell_type": "code",
   "execution_count": null,
   "metadata": {},
   "outputs": [],
   "source": [
    "import pandas as pd"
   ]
  },
  {
   "cell_type": "code",
   "execution_count": null,
   "metadata": {},
   "outputs": [],
   "source": [
    "df = pd.read_csv(\"input.txt\", sep='\\r', lineterminator='\\n', header=None)\n",
    "df"
   ]
  },
  {
   "cell_type": "code",
   "execution_count": null,
   "metadata": {},
   "outputs": [],
   "source": [
    "#part one\n",
    "firstLast = []\n",
    "for x in df[0]:\n",
    "    numbers = []\n",
    "    for y in x:\n",
    "        if y.isnumeric():\n",
    "            numbers.append(y)\n",
    "    insertable = numbers[0] + numbers[len(numbers)-1]\n",
    "    firstLast.append(insertable)\n",
    "firstLast"
   ]
  },
  {
   "cell_type": "code",
   "execution_count": null,
   "metadata": {},
   "outputs": [],
   "source": [
    "#part two\n",
    "firstLast = []\n",
    "for x in df[0]:\n",
    "    b = x.replace(\"one\", \"o1e\")\n",
    "    c = b.replace('two', 't2o')\n",
    "    d = c.replace('three', 't3e')\n",
    "    e = d.replace('four', 'f4r')\n",
    "    f = e.replace('five', 'f5e')\n",
    "    g = f.replace('six', 's6x')\n",
    "    h = g.replace('seven', 's7n')\n",
    "    i = h.replace('eight', 'e8t')\n",
    "    j = i.replace('nine', 'n9e')\n",
    "    numbers = []\n",
    "    for y in j:\n",
    "        if y.isnumeric():\n",
    "            numbers.append(y)\n",
    "    insertable = numbers[0] + numbers[len(numbers)-1]\n",
    "    firstLast.append(insertable)\n",
    "firstLast"
   ]
  },
  {
   "cell_type": "code",
   "execution_count": null,
   "metadata": {},
   "outputs": [],
   "source": [
    "makeNums = [int(i) for i in firstLast]\n",
    "print(sum(makeNums))"
   ]
  },
  {
   "cell_type": "code",
   "execution_count": null,
   "metadata": {},
   "outputs": [],
   "source": []
  }
 ],
 "metadata": {
  "kernelspec": {
   "display_name": ".venv",
   "language": "python",
   "name": "python3"
  },
  "language_info": {
   "codemirror_mode": {
    "name": "ipython",
    "version": 3
   },
   "file_extension": ".py",
   "mimetype": "text/x-python",
   "name": "python",
   "nbconvert_exporter": "python",
   "pygments_lexer": "ipython3",
   "version": "3.12.0"
  }
 },
 "nbformat": 4,
 "nbformat_minor": 2
}
